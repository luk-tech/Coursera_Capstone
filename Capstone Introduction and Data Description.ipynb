{
 "cells": [
  {
   "cell_type": "markdown",
   "metadata": {},
   "source": [
    "# The Battle of Neighborhoods | Introduction"
   ]
  },
  {
   "cell_type": "markdown",
   "metadata": {},
   "source": [
    "### The purpose of this project is to analyze the different neighborhoods/community areas in Chicago, Illinois in terms of the volume of businesses in each neighborhood. It will help prospective business owners determine which neighborhood will bring the most success for their business. \n",
    "\n",
    "### Lots of businesses can find success in different ways. One of the ways is by being in high traffic areas where there are lots of other businesses. This can cause consumers to see other businesses. So, in this project the goal will be to see which neighborhoods have the greatest volume of businesses."
   ]
  },
  {
   "cell_type": "markdown",
   "metadata": {},
   "source": [
    "# Audience\n",
    "\n",
    "### The audience of the project would be prospective business owners or business owners who are looking to bring higher traffic to their place of business."
   ]
  },
  {
   "cell_type": "markdown",
   "metadata": {},
   "source": [
    "# Foursquare API Data:\n",
    "### We will be using Foursquare API data to create a data set that displays the amount of venues (businesses) in the Chicago city limits. This will be able to display which community areas in Chicago have the largest volume of businesses and where there might be more consumer traffic.\n",
    "### Examples of the data that we want included in the data set are:\n",
    "### 1. Neighborhood - longitude, latitude\n",
    "### 2. Venue - longitude, latitude, and name"
   ]
  },
  {
   "cell_type": "code",
   "execution_count": null,
   "metadata": {},
   "outputs": [],
   "source": []
  }
 ],
 "metadata": {
  "kernelspec": {
   "display_name": "Python 3",
   "language": "python",
   "name": "python3"
  },
  "language_info": {
   "codemirror_mode": {
    "name": "ipython",
    "version": 3
   },
   "file_extension": ".py",
   "mimetype": "text/x-python",
   "name": "python",
   "nbconvert_exporter": "python",
   "pygments_lexer": "ipython3",
   "version": "3.7.6"
  }
 },
 "nbformat": 4,
 "nbformat_minor": 4
}
